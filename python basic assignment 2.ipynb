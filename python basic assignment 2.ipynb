{
 "cells": [
  {
   "cell_type": "markdown",
   "id": "6a12184e",
   "metadata": {},
   "source": [
    "1.What are the two values of the Boolean data type? How do you write them?"
   ]
  },
  {
   "cell_type": "code",
   "execution_count": null,
   "id": "e5171428",
   "metadata": {},
   "outputs": [],
   "source": [
    "The Boolean data type can be one of two values, either True or False. 1 and 0 is the value for boolian data type.\n",
    "we write it as True and False respectively."
   ]
  },
  {
   "cell_type": "markdown",
   "id": "8e2f49a9",
   "metadata": {},
   "source": [
    "2. What are the three different types of Boolean operators?"
   ]
  },
  {
   "cell_type": "code",
   "execution_count": null,
   "id": "c72bb2f4",
   "metadata": {},
   "outputs": [],
   "source": [
    "there are three different type of logical boolian operator :AND,OR,NOT.\n",
    "all returns the value True or False.if one is False, it returns the value False,\n",
    "AND- returns True if both are true.\n",
    "OR- returns True if one or both of two is true.\n",
    "NOT-True only if false. "
   ]
  },
  {
   "cell_type": "markdown",
   "id": "619daf64",
   "metadata": {},
   "source": [
    "3.Make a list of each Boolean operator's truth tables (i.e. every possible combination of Boolean\n",
    "values for the operator and what it evaluate )."
   ]
  },
  {
   "cell_type": "code",
   "execution_count": null,
   "id": "b340499d",
   "metadata": {},
   "outputs": [],
   "source": [
    "AND:\n",
    "    T T T\n",
    "    T F F\n",
    "    F T F\n",
    "    F F F\n",
    "OR: \n",
    "    T T T \n",
    "    T F T\n",
    "    F T T\n",
    "    F F F\n",
    "NOT:\n",
    "    T F\n",
    "    F T"
   ]
  },
  {
   "cell_type": "markdown",
   "id": "d6a7e947",
   "metadata": {},
   "source": [
    "4. What are the values of the following expressions?\n",
    "(5> 4) and (3 == 5)\n",
    "not (5> 4)\n",
    "(5 > 4) or (3 == 5)\n",
    "not ((5 > 4) or (3 == 5))\n",
    "(True and True) and (True == False)\n",
    "(not False) or (not True)"
   ]
  },
  {
   "cell_type": "code",
   "execution_count": null,
   "id": "25614813",
   "metadata": {},
   "outputs": [],
   "source": [
    "1.(5> 4) and (3 == 5)                                False and False = False \n",
    "\n",
    "2. not (5> 4)                                        NOT(False) =True\n",
    "\n",
    "3. (5 > 4) or (3 == 5)                               False or False = False\n",
    "\n",
    "4. not ((5 > 4) or (3 == 5))                         Not(False) = True\n",
    "\n",
    "5. (True and True) and (True == False)               True and False = False\n",
    "\n",
    "6. (not False) or (not True)                         True or False = True"
   ]
  },
  {
   "cell_type": "markdown",
   "id": "22db58aa",
   "metadata": {},
   "source": [
    "5. What are the six comparison operators?"
   ]
  },
  {
   "cell_type": "code",
   "execution_count": null,
   "id": "c3797fea",
   "metadata": {},
   "outputs": [],
   "source": [
    "equal to: ==\n",
    "Not equal to: !=\n",
    "greater than: >\n",
    "greater than or equal to: >=\n",
    "less than: <\n",
    "less than or equal to: <=\n",
    "\n"
   ]
  },
  {
   "cell_type": "markdown",
   "id": "07bddb74",
   "metadata": {},
   "source": [
    "6. How do you tell the difference between the equal to and assignment operators?Describe a\n",
    "condition and when you would use one."
   ]
  },
  {
   "cell_type": "markdown",
   "id": "10b1c56a",
   "metadata": {},
   "source": [
    "# Equal to(==):\n",
    "equal to(==) is an relational or comparison operator used to check wether 2 operands are equal or not.\n",
    "if it is true returns True, if not returns False.\n",
    "Example:"
   ]
  },
  {
   "cell_type": "code",
   "execution_count": 1,
   "id": "63f960e2",
   "metadata": {},
   "outputs": [
    {
     "data": {
      "text/plain": [
       "True"
      ]
     },
     "execution_count": 1,
     "metadata": {},
     "output_type": "execute_result"
    }
   ],
   "source": [
    "5==5"
   ]
  },
  {
   "cell_type": "code",
   "execution_count": 2,
   "id": "648d9521",
   "metadata": {},
   "outputs": [
    {
     "data": {
      "text/plain": [
       "False"
      ]
     },
     "execution_count": 2,
     "metadata": {},
     "output_type": "execute_result"
    }
   ],
   "source": [
    "3==2"
   ]
  },
  {
   "cell_type": "markdown",
   "id": "e516062f",
   "metadata": {},
   "source": [
    "# assignment operator:\n",
    "this \"(=)\" is an assignment operator,used to assign a value to the variable.\n",
    "Example: \n",
    "a=5\n",
    "b=6"
   ]
  },
  {
   "cell_type": "code",
   "execution_count": 4,
   "id": "e4b7a37f",
   "metadata": {},
   "outputs": [
    {
     "data": {
      "text/plain": [
       "6"
      ]
     },
     "execution_count": 4,
     "metadata": {},
     "output_type": "execute_result"
    }
   ],
   "source": [
    "a=5\n",
    "b=6\n",
    "a\n",
    "b"
   ]
  },
  {
   "cell_type": "code",
   "execution_count": 5,
   "id": "e85f48ba",
   "metadata": {},
   "outputs": [
    {
     "name": "stdout",
     "output_type": "stream",
     "text": [
      "a is not equal to b\n"
     ]
    }
   ],
   "source": [
    "#conditons of using (=) and (==):\n",
    "a= 5\n",
    "b= 6\n",
    "if a==b:\n",
    "    print(\"a and b is equal\")\n",
    "else:\n",
    "    print(\"a is not equal to b\")"
   ]
  },
  {
   "cell_type": "code",
   "execution_count": null,
   "id": "46970608",
   "metadata": {},
   "outputs": [],
   "source": [
    "7. Identify the three blocks in this code:\n",
    "spam = 0\n",
    "if spam == 10:\n",
    "print('eggs')\n",
    "if spam > 5:\n",
    "print('bacon')\n",
    "else:\n",
    "print('ham')\n",
    "print('spam')\n",
    "print('spam')\n"
   ]
  },
  {
   "cell_type": "code",
   "execution_count": 15,
   "id": "034708fb",
   "metadata": {},
   "outputs": [
    {
     "name": "stdout",
     "output_type": "stream",
     "text": [
      "ham\n",
      "spam\n",
      "spam\n"
     ]
    }
   ],
   "source": [
    "#there are three blocks of code \n",
    "spam = 0\n",
    "if spam == 10:\n",
    "     print('eggs')\n",
    "if spam > 5:\n",
    "    print('bacon')\n",
    "else:\n",
    "    print('ham')\n",
    "    print('spam')\n",
    "    print('spam')\n",
    "\n",
    "    "
   ]
  },
  {
   "cell_type": "markdown",
   "id": "950ec890",
   "metadata": {},
   "source": [
    "8. Write code that prints Hello if 1 is stored in spam, prints Howdy if 2 is stored in spam, and prints Greetings!\n",
    "if anything else is stored in spam."
   ]
  },
  {
   "cell_type": "code",
   "execution_count": 6,
   "id": "0731bc02",
   "metadata": {},
   "outputs": [
    {
     "name": "stdout",
     "output_type": "stream",
     "text": [
      "input value of spam\n",
      "1\n",
      "Hello\n"
     ]
    }
   ],
   "source": [
    "print(\"input value of spam\")\n",
    "spam= int(input())\n",
    "if spam==1:\n",
    "    print(\"Hello\")\n",
    "elif spam==2:\n",
    "    print(\"Howdy\")\n",
    "else:\n",
    "    print(\"Greetings!\")"
   ]
  },
  {
   "cell_type": "markdown",
   "id": "b7d666b6",
   "metadata": {},
   "source": [
    "9.If your programme is stuck in an endless loop, what keys you’ll press?"
   ]
  },
  {
   "cell_type": "code",
   "execution_count": null,
   "id": "55a32414",
   "metadata": {},
   "outputs": [],
   "source": [
    "ctrl+C"
   ]
  },
  {
   "cell_type": "markdown",
   "id": "f4da32d7",
   "metadata": {},
   "source": [
    "10. How can you tell the difference between break and continue?"
   ]
  },
  {
   "cell_type": "markdown",
   "id": "91cc0091",
   "metadata": {},
   "source": [
    "Break:\n",
    "It terminates the current working loop and passes the control to the next statement, and if the break statement\n",
    "resides inside the nested loop, it passes control to the outer loop. It can be used with both while and for loops.\n",
    "\n",
    "Continue:\n",
    "Instead of terminating certain conditions, it jumps off to the very next condition. But it will continue the execution of the loop statement as per its name. \n",
    "            "
   ]
  },
  {
   "cell_type": "code",
   "execution_count": 14,
   "id": "d53e8c39",
   "metadata": {},
   "outputs": [
    {
     "name": "stdout",
     "output_type": "stream",
     "text": [
      "0\n",
      "1\n",
      "2\n",
      "3\n",
      "4\n",
      "5\n"
     ]
    }
   ],
   "source": [
    "for i in range(10):\n",
    "    if i== 6:\n",
    "        break\n",
    "    else:\n",
    "        print(i)"
   ]
  },
  {
   "cell_type": "code",
   "execution_count": 15,
   "id": "012d99a1",
   "metadata": {},
   "outputs": [
    {
     "name": "stdout",
     "output_type": "stream",
     "text": [
      "0\n",
      "1\n",
      "2\n",
      "3\n",
      "4\n",
      "5\n",
      "7\n",
      "8\n",
      "9\n"
     ]
    }
   ],
   "source": [
    "for i in range(10):\n",
    "    if i==6:\n",
    "        continue\n",
    "    else:\n",
    "        print(i)"
   ]
  },
  {
   "cell_type": "markdown",
   "id": "1e2013a3",
   "metadata": {},
   "source": [
    "11. In a for loop, what is the difference between range(10), range(0, 10), and range(0, 10, 1)?"
   ]
  },
  {
   "cell_type": "code",
   "execution_count": null,
   "id": "fe0e3676",
   "metadata": {},
   "outputs": [],
   "source": [
    "range(10)= [0,1,2,3,4,5,6,7,8,9]\n",
    "range(0,10)=[0,1,2,3,4,5,6,7,8,9],excludes the upper limit\n",
    "range(0,10,1)=[0,2,4,6,8],step jump size=1"
   ]
  },
  {
   "cell_type": "markdown",
   "id": "4cac5d58",
   "metadata": {},
   "source": [
    "12. Write a short program that prints the numbers 1 to 10 using a for loop. Then write an equivalent\n",
    "program that prints the numbers 1 to 10 using a while loop."
   ]
  },
  {
   "cell_type": "code",
   "execution_count": 19,
   "id": "4fa4143a",
   "metadata": {},
   "outputs": [
    {
     "name": "stdout",
     "output_type": "stream",
     "text": [
      "1\n",
      "2\n",
      "3\n",
      "4\n",
      "5\n",
      "6\n",
      "7\n",
      "8\n",
      "9\n",
      "10\n"
     ]
    }
   ],
   "source": [
    "#program that prints the numbers 1 to 10 using a for loop.\n",
    "a= range(1,11)\n",
    "for i in a:\n",
    "    print(i)\n",
    "    "
   ]
  },
  {
   "cell_type": "code",
   "execution_count": 3,
   "id": "619f4427",
   "metadata": {},
   "outputs": [
    {
     "name": "stdout",
     "output_type": "stream",
     "text": [
      "1\n",
      "2\n",
      "3\n",
      "4\n",
      "5\n",
      "6\n",
      "7\n",
      "8\n",
      "9\n",
      "10\n"
     ]
    }
   ],
   "source": [
    "#program that prints the numbers 1 to 10 using a while loop.\n",
    "i=1\n",
    "while (i<=10):\n",
    "    print(i)\n",
    "    i+=1\n",
    "    "
   ]
  },
  {
   "cell_type": "markdown",
   "id": "6dbab360",
   "metadata": {},
   "source": [
    "13. If you had a function named bacon() inside a module named spam, how would you call it after\n",
    "importing spam?"
   ]
  },
  {
   "cell_type": "code",
   "execution_count": null,
   "id": "977e9055",
   "metadata": {},
   "outputs": [],
   "source": [
    "it can be called by spam.bacon()"
   ]
  }
 ],
 "metadata": {
  "kernelspec": {
   "display_name": "Python 3 (ipykernel)",
   "language": "python",
   "name": "python3"
  },
  "language_info": {
   "codemirror_mode": {
    "name": "ipython",
    "version": 3
   },
   "file_extension": ".py",
   "mimetype": "text/x-python",
   "name": "python",
   "nbconvert_exporter": "python",
   "pygments_lexer": "ipython3",
   "version": "3.9.7"
  }
 },
 "nbformat": 4,
 "nbformat_minor": 5
}
