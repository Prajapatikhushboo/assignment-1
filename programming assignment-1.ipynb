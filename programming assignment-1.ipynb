{
 "cells": [
  {
   "cell_type": "markdown",
   "id": "ea340684",
   "metadata": {},
   "source": [
    "1. Write a Python program to print \"Hello Python\"?"
   ]
  },
  {
   "cell_type": "code",
   "execution_count": 2,
   "id": "73a24df1",
   "metadata": {},
   "outputs": [
    {
     "name": "stdout",
     "output_type": "stream",
     "text": [
      "Hell0 Python\n"
     ]
    }
   ],
   "source": [
    "print(\"Hell0 Python\")"
   ]
  },
  {
   "cell_type": "markdown",
   "id": "16921125",
   "metadata": {},
   "source": [
    "2. Write a Python program to do arithmetical operations addition and division.?"
   ]
  },
  {
   "cell_type": "code",
   "execution_count": 4,
   "id": "3e0f87bd",
   "metadata": {},
   "outputs": [
    {
     "name": "stdout",
     "output_type": "stream",
     "text": [
      "15\n"
     ]
    }
   ],
   "source": [
    "a=  11+4\n",
    "print(a)"
   ]
  },
  {
   "cell_type": "code",
   "execution_count": 6,
   "id": "34664729",
   "metadata": {},
   "outputs": [
    {
     "name": "stdout",
     "output_type": "stream",
     "text": [
      "5.5\n"
     ]
    }
   ],
   "source": [
    "a= 11/2\n",
    "print(a)"
   ]
  },
  {
   "cell_type": "markdown",
   "id": "203e92a6",
   "metadata": {},
   "source": [
    "3. Write a Python program to find the area of a triangle?"
   ]
  },
  {
   "cell_type": "code",
   "execution_count": 49,
   "id": "20342862",
   "metadata": {},
   "outputs": [
    {
     "name": "stdout",
     "output_type": "stream",
     "text": [
      "enter the first side:11\n",
      "enter the second side:11\n",
      "enter the third side:4\n",
      "area of triangle is 21.633\n"
     ]
    }
   ],
   "source": [
    "a= float(input(\"enter the first side:\"))\n",
    "b= float(input(\"enter the second side:\"))\n",
    "c= float(input(\"enter the third side:\"))\n",
    "#calculate semiperimeter\n",
    "s=(a+b+c)/2\n",
    "#calculate area\n",
    "Area =(s*(s-a)*(s-b)*(s-c))**0.5\n",
    "print('area of triangle is %0.3f'%Area)"
   ]
  },
  {
   "cell_type": "code",
   "execution_count": 45,
   "id": "fadbd980",
   "metadata": {},
   "outputs": [
    {
     "name": "stdout",
     "output_type": "stream",
     "text": [
      "Area of triangle is 21.633\n"
     ]
    }
   ],
   "source": [
    "## suppose three sides of triangle\n",
    "\n",
    "a= 11\n",
    "b= 11\n",
    "c= 4\n",
    "\n",
    "## calculate semiperimeter\n",
    "s=(a+b+c)/2\n",
    "#calculating area of triangle\n",
    "\n",
    "area = (s*(s-a)*(s-b)*(s-c))**0.5\n",
    "print(\"Area of triangle is %0.3f\" %area)"
   ]
  },
  {
   "cell_type": "markdown",
   "id": "65d52fec",
   "metadata": {},
   "source": [
    "4.\tWrite a Python program to swap two variables?"
   ]
  },
  {
   "cell_type": "code",
   "execution_count": 36,
   "id": "65a558f0",
   "metadata": {},
   "outputs": [
    {
     "name": "stdout",
     "output_type": "stream",
     "text": [
      "first variable:11\n",
      "second variable:22\n",
      "value of a= 22\n",
      "value of b= 11\n"
     ]
    }
   ],
   "source": [
    "a = int(input(\"first variable:\"))\n",
    "b = int(input(\"second variable:\"))\n",
    "a,b =b,a\n",
    "print(\"value of a=\",a)\n",
    "print(\"value of b=\",b)"
   ]
  },
  {
   "cell_type": "code",
   "execution_count": 38,
   "id": "9b3e8316",
   "metadata": {},
   "outputs": [
    {
     "name": "stdout",
     "output_type": "stream",
     "text": [
      "after swapping value of a= 2\n",
      "after swapping value of b= 1\n"
     ]
    }
   ],
   "source": [
    "#Ex.swapping of two vaiable\n",
    "\n",
    "a= 1\n",
    "b= 2\n",
    "a,b= b,a\n",
    "print('after swapping value of a=',a)\n",
    "print('after swapping value of b=',b)"
   ]
  },
  {
   "cell_type": "markdown",
   "id": "8bbf3183",
   "metadata": {},
   "source": [
    "5.\tWrite a Python program to generate a random number?"
   ]
  },
  {
   "cell_type": "code",
   "execution_count": 55,
   "id": "0fe46acc",
   "metadata": {},
   "outputs": [
    {
     "data": {
      "text/plain": [
       "3"
      ]
     },
     "execution_count": 55,
     "metadata": {},
     "output_type": "execute_result"
    }
   ],
   "source": [
    "import random\n",
    "random.randint(0,9)                #output can be any digit between range 0 to 9."
   ]
  }
 ],
 "metadata": {
  "kernelspec": {
   "display_name": "Python 3 (ipykernel)",
   "language": "python",
   "name": "python3"
  },
  "language_info": {
   "codemirror_mode": {
    "name": "ipython",
    "version": 3
   },
   "file_extension": ".py",
   "mimetype": "text/x-python",
   "name": "python",
   "nbconvert_exporter": "python",
   "pygments_lexer": "ipython3",
   "version": "3.9.7"
  }
 },
 "nbformat": 4,
 "nbformat_minor": 5
}
