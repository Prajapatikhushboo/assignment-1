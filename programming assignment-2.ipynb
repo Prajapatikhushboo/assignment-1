{
 "cells": [
  {
   "cell_type": "markdown",
   "id": "9291748b",
   "metadata": {},
   "source": [
    "1. Write a Python program to convert kilometers to miles?"
   ]
  },
  {
   "cell_type": "code",
   "execution_count": 18,
   "id": "e3f50ad0",
   "metadata": {},
   "outputs": [
    {
     "name": "stdout",
     "output_type": "stream",
     "text": [
      "enter the value in kilometers:10\n",
      "10.00 kilometers is equal to 6.214 miles\n"
     ]
    }
   ],
   "source": [
    "#taking input\n",
    "kilometers=float(input(\"enter the value in kilometers:\"))\n",
    "#conversion factor 1 km= 0.62137\n",
    "conv = 0.62137\n",
    "# convert kilometers to miles\n",
    "miles= kilometers*conv\n",
    "print(\"%0.2f kilometers is equal to %0.3f miles\"%(kilometers,miles))"
   ]
  },
  {
   "cell_type": "markdown",
   "id": "b3572fcb",
   "metadata": {},
   "source": [
    "2. Write a Python program to convert Celsius to Fahrenheit?"
   ]
  },
  {
   "cell_type": "code",
   "execution_count": 10,
   "id": "9afa3078",
   "metadata": {},
   "outputs": [
    {
     "name": "stdout",
     "output_type": "stream",
     "text": [
      "enter value in celcius:1\n",
      "1.00 celcius is equal to 33.80 fahrenheit\n"
     ]
    }
   ],
   "source": [
    "#taking input\n",
    "celcius=float(input(\"enter value in celcius:\"))\n",
    "#convert celcius to fahreinheit\n",
    "fahrenheit= (celcius*9/5)+32\n",
    "print('%0.2f celcius is equal to %0.2f fahrenheit'%(celcius,fahrenheit))"
   ]
  },
  {
   "cell_type": "markdown",
   "id": "12da457c",
   "metadata": {},
   "source": [
    "3. Write a Python program to display calendar?"
   ]
  },
  {
   "cell_type": "code",
   "execution_count": 19,
   "id": "3b350fb6",
   "metadata": {},
   "outputs": [
    {
     "name": "stdout",
     "output_type": "stream",
     "text": [
      "     April 2022\n",
      "Mo Tu We Th Fr Sa Su\n",
      "             1  2  3\n",
      " 4  5  6  7  8  9 10\n",
      "11 12 13 14 15 16 17\n",
      "18 19 20 21 22 23 24\n",
      "25 26 27 28 29 30\n",
      "\n"
     ]
    }
   ],
   "source": [
    "#import module\n",
    "import calendar\n",
    "\n",
    "yy= 2022\n",
    "mm= 4\n",
    "\n",
    "#display the calendar\n",
    "print(calendar.month(yy,mm))"
   ]
  },
  {
   "cell_type": "code",
   "execution_count": 22,
   "id": "288fc591",
   "metadata": {},
   "outputs": [
    {
     "name": "stdout",
     "output_type": "stream",
     "text": [
      "                                  2022\n",
      "\n",
      "      January                   February                   March\n",
      "Mo Tu We Th Fr Sa Su      Mo Tu We Th Fr Sa Su      Mo Tu We Th Fr Sa Su\n",
      "                1  2          1  2  3  4  5  6          1  2  3  4  5  6\n",
      " 3  4  5  6  7  8  9       7  8  9 10 11 12 13       7  8  9 10 11 12 13\n",
      "10 11 12 13 14 15 16      14 15 16 17 18 19 20      14 15 16 17 18 19 20\n",
      "17 18 19 20 21 22 23      21 22 23 24 25 26 27      21 22 23 24 25 26 27\n",
      "24 25 26 27 28 29 30      28                        28 29 30 31\n",
      "31\n",
      "\n",
      "       April                      May                       June\n",
      "Mo Tu We Th Fr Sa Su      Mo Tu We Th Fr Sa Su      Mo Tu We Th Fr Sa Su\n",
      "             1  2  3                         1             1  2  3  4  5\n",
      " 4  5  6  7  8  9 10       2  3  4  5  6  7  8       6  7  8  9 10 11 12\n",
      "11 12 13 14 15 16 17       9 10 11 12 13 14 15      13 14 15 16 17 18 19\n",
      "18 19 20 21 22 23 24      16 17 18 19 20 21 22      20 21 22 23 24 25 26\n",
      "25 26 27 28 29 30         23 24 25 26 27 28 29      27 28 29 30\n",
      "                          30 31\n",
      "\n",
      "        July                     August                  September\n",
      "Mo Tu We Th Fr Sa Su      Mo Tu We Th Fr Sa Su      Mo Tu We Th Fr Sa Su\n",
      "             1  2  3       1  2  3  4  5  6  7                1  2  3  4\n",
      " 4  5  6  7  8  9 10       8  9 10 11 12 13 14       5  6  7  8  9 10 11\n",
      "11 12 13 14 15 16 17      15 16 17 18 19 20 21      12 13 14 15 16 17 18\n",
      "18 19 20 21 22 23 24      22 23 24 25 26 27 28      19 20 21 22 23 24 25\n",
      "25 26 27 28 29 30 31      29 30 31                  26 27 28 29 30\n",
      "\n",
      "      October                   November                  December\n",
      "Mo Tu We Th Fr Sa Su      Mo Tu We Th Fr Sa Su      Mo Tu We Th Fr Sa Su\n",
      "                1  2          1  2  3  4  5  6                1  2  3  4\n",
      " 3  4  5  6  7  8  9       7  8  9 10 11 12 13       5  6  7  8  9 10 11\n",
      "10 11 12 13 14 15 16      14 15 16 17 18 19 20      12 13 14 15 16 17 18\n",
      "17 18 19 20 21 22 23      21 22 23 24 25 26 27      19 20 21 22 23 24 25\n",
      "24 25 26 27 28 29 30      28 29 30                  26 27 28 29 30 31\n",
      "31\n",
      "\n"
     ]
    }
   ],
   "source": [
    "#import module\n",
    "import calendar\n",
    "yy =2022\n",
    "print(calendar.calendar(yy))"
   ]
  },
  {
   "cell_type": "markdown",
   "id": "3d36ce9b",
   "metadata": {},
   "source": [
    "4. Write a Python program to solve quadratic equation?"
   ]
  },
  {
   "cell_type": "code",
   "execution_count": 39,
   "id": "336f7342",
   "metadata": {},
   "outputs": [
    {
     "name": "stdout",
     "output_type": "stream",
     "text": [
      "enter the value of a:1\n",
      "enter the value of b:4\n",
      "enter the value of c:2\n",
      "roots of the equation are\n",
      "(-0.5857864376269049+0j)\n",
      "(-3.414213562373095+0j)\n"
     ]
    }
   ],
   "source": [
    "# quadratic equation a*x**2+b*x+c\n",
    "import cmath\n",
    "# taking value of a,b and c\n",
    "\n",
    "a= float(input(\"enter the value of a:\"))\n",
    "b= float(input(\"enter the value of b:\"))\n",
    "c= float(input(\"enter the value of c:\"))\n",
    "\n",
    "dis= b**2-(4*a*c)\n",
    "x1 =(-b+cmath.sqrt(dis))/2*a\n",
    "x2 =(-b-cmath.sqrt(dis))/2*a\n",
    "print(\"roots of the equation are\")\n",
    "print(x1)\n",
    "print(x2)"
   ]
  },
  {
   "cell_type": "markdown",
   "id": "4389e340",
   "metadata": {},
   "source": [
    "5.Write a Python program to swap two variables without temp variable?"
   ]
  },
  {
   "cell_type": "code",
   "execution_count": 48,
   "id": "3d109a60",
   "metadata": {},
   "outputs": [
    {
     "name": "stdout",
     "output_type": "stream",
     "text": [
      "value of one variable:22\n",
      "value of second variable:44\n",
      "value of a after swapping: 44.0\n",
      "value of b after swapping: 22.0\n"
     ]
    }
   ],
   "source": [
    "a= float(input(\"value of one variable:\"))\n",
    "b= float(input(\"value of second variable:\"))\n",
    "# swapping of two variables\n",
    "a,b= b,a\n",
    "print(\"value of a after swapping:\",a)\n",
    "print(\"value of b after swapping:\",b)\n"
   ]
  }
 ],
 "metadata": {
  "kernelspec": {
   "display_name": "Python 3 (ipykernel)",
   "language": "python",
   "name": "python3"
  },
  "language_info": {
   "codemirror_mode": {
    "name": "ipython",
    "version": 3
   },
   "file_extension": ".py",
   "mimetype": "text/x-python",
   "name": "python",
   "nbconvert_exporter": "python",
   "pygments_lexer": "ipython3",
   "version": "3.9.7"
  }
 },
 "nbformat": 4,
 "nbformat_minor": 5
}
