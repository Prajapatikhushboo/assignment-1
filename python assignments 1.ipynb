{
 "cells": [
  {
   "cell_type": "code",
   "execution_count": null,
   "id": "9f0be13c",
   "metadata": {},
   "outputs": [],
   "source": [
    "1.In the below elements which of them are values or an expression? eg:- values can be\n",
    "integer or string and expressions will be mathematical operators.\n",
    "*\n",
    "'hello'\n",
    "-87.8\n",
    "-\n",
    "/\n",
    "+\n",
    "6"
   ]
  },
  {
   "cell_type": "markdown",
   "id": "dd7eaf38",
   "metadata": {},
   "source": [
    "values are 'hello', -87.8, 6 and expressions(mathematical operaters are *, -, /,+"
   ]
  },
  {
   "cell_type": "code",
   "execution_count": null,
   "id": "64daa5f5",
   "metadata": {},
   "outputs": [],
   "source": [
    "2.What is the difference between string and variable?"
   ]
  },
  {
   "cell_type": "markdown",
   "id": "dd6145f8",
   "metadata": {},
   "source": [
    "string: string is datatype(sequence of characters,surrounded by single double or triple quotes) which can be stored inside a variable.\n",
    "variable: it is a store of different data types eg. string,integer,list or tuples\n",
    "z = 'khushboo'\n",
    "so, here we have stored an information as string inside a variable called z.\n",
    "we can say that string is information and variable is a store of information. "
   ]
  },
  {
   "cell_type": "code",
   "execution_count": null,
   "id": "a43ea9cd",
   "metadata": {},
   "outputs": [],
   "source": [
    "3.Describe three different data types."
   ]
  },
  {
   "cell_type": "markdown",
   "id": "829210fb",
   "metadata": {},
   "source": [
    "# numeric literals:\n",
    "(1) integer:  an int contant must have atleast one digit and must not contain any decimal points.it may contain (+) or (-)       sign.number with no sign assumed as positive. \n",
    "(2) floating point literals: it contains decimal numbers.ex. 2.0,17.5,-13.0, -0.00625  \n",
    "(3) Complex literals: it contains a complex no's real part and imaginary part.\n",
    "# string literals:\n",
    "  string is a sequence of characters,surrounded by single,double or triple quotes.\n",
    "# Boolian literals:\n",
    "  it is used to represent two boolian values True or False.it can either have values as True or False.\n",
    "# literal collection:\n",
    "  list,tuple,dict,set"
   ]
  },
  {
   "cell_type": "code",
   "execution_count": null,
   "id": "fb1ecee0",
   "metadata": {},
   "outputs": [],
   "source": [
    "4. What is an expression made up of? What do all expressions do?"
   ]
  },
  {
   "cell_type": "markdown",
   "id": "0ff44c44",
   "metadata": {},
   "source": [
    "it is a legal combination of symblos which produces a value when evaluated.\n",
    "ex. (3+5)/4"
   ]
  },
  {
   "cell_type": "code",
   "execution_count": null,
   "id": "daad03e8",
   "metadata": {},
   "outputs": [],
   "source": [
    "5. What is the difference between an\n",
    "expression and a statement?"
   ]
  },
  {
   "cell_type": "markdown",
   "id": "9869f3a5",
   "metadata": {},
   "source": [
    "expression is legal combination of symbols that produces a value.it represents a value.\n",
    "statement is a programming instruction that does something.some action takes place.\n",
    "an expression is evaluated thus yield a value but a statement is executed and thus may or may not yield a value. \n",
    "print('hello')          #this statement calls print function.\n",
    "if b> 5:\n",
    "    .\n",
    "    ."
   ]
  },
  {
   "cell_type": "markdown",
   "id": "0605c382",
   "metadata": {},
   "source": [
    "6. After running the following code, what does the variable bacon contain?\n",
    "bacon = 22\n",
    "bacon + 1"
   ]
  },
  {
   "cell_type": "code",
   "execution_count": 1,
   "id": "7eaee52e",
   "metadata": {},
   "outputs": [
    {
     "name": "stdout",
     "output_type": "stream",
     "text": [
      "23\n"
     ]
    }
   ],
   "source": [
    "bacon= 22                       #variable bacon contains 22.\n",
    "print(bacon + 1)"
   ]
  },
  {
   "cell_type": "code",
   "execution_count": 2,
   "id": "9bd19a91",
   "metadata": {},
   "outputs": [],
   "source": [
    "bacon =bacon +1"
   ]
  },
  {
   "cell_type": "code",
   "execution_count": 3,
   "id": "032fee5a",
   "metadata": {},
   "outputs": [
    {
     "data": {
      "text/plain": [
       "23"
      ]
     },
     "execution_count": 3,
     "metadata": {},
     "output_type": "execute_result"
    }
   ],
   "source": [
    "bacon"
   ]
  },
  {
   "cell_type": "code",
   "execution_count": null,
   "id": "67053a1c",
   "metadata": {},
   "outputs": [],
   "source": [
    "7. What should the values of the following two terms be?\n",
    "'spam'+ 'spamspam'\n",
    " 'spam' * 3"
   ]
  },
  {
   "cell_type": "code",
   "execution_count": 26,
   "id": "76e7389f",
   "metadata": {},
   "outputs": [
    {
     "data": {
      "text/plain": [
       "'spamspamspam'"
      ]
     },
     "execution_count": 26,
     "metadata": {},
     "output_type": "execute_result"
    }
   ],
   "source": [
    "'spam'+'spamspam'"
   ]
  },
  {
   "cell_type": "code",
   "execution_count": 27,
   "id": "02e3a75a",
   "metadata": {},
   "outputs": [
    {
     "data": {
      "text/plain": [
       "'spamspamspam'"
      ]
     },
     "execution_count": 27,
     "metadata": {},
     "output_type": "execute_result"
    }
   ],
   "source": [
    "'spam'*3"
   ]
  },
  {
   "cell_type": "code",
   "execution_count": 25,
   "id": "e1c62f51",
   "metadata": {},
   "outputs": [],
   "source": [
    "8. Why is eggs a valid variable name while 100 is invalid?"
   ]
  },
  {
   "cell_type": "markdown",
   "id": "7cc2cbd6",
   "metadata": {},
   "source": [
    "literals(numeric,string,special,boolian,and literal collections) can not be assigned as variable.\n",
    "100 is a numeric literal(integer) ,so it can not be a valid variable.eggs is a sequence of character without quotes and it does not come under any\n",
    "literal so it's a valid variable.\n"
   ]
  },
  {
   "cell_type": "code",
   "execution_count": null,
   "id": "8c999db8",
   "metadata": {},
   "outputs": [],
   "source": [
    "9. What three functions can be used to get the integer, floating-point number, or string\n",
    "version of a value?"
   ]
  },
  {
   "cell_type": "code",
   "execution_count": 32,
   "id": "9df821d2",
   "metadata": {},
   "outputs": [
    {
     "data": {
      "text/plain": [
       "10"
      ]
     },
     "execution_count": 32,
     "metadata": {},
     "output_type": "execute_result"
    }
   ],
   "source": [
    "a= 10\n",
    "int(a)"
   ]
  },
  {
   "cell_type": "code",
   "execution_count": 34,
   "id": "ce46a8b5",
   "metadata": {},
   "outputs": [
    {
     "data": {
      "text/plain": [
       "10.0"
      ]
     },
     "execution_count": 34,
     "metadata": {},
     "output_type": "execute_result"
    }
   ],
   "source": [
    "float(a)"
   ]
  },
  {
   "cell_type": "code",
   "execution_count": 35,
   "id": "aefd1337",
   "metadata": {},
   "outputs": [
    {
     "data": {
      "text/plain": [
       "'10'"
      ]
     },
     "execution_count": 35,
     "metadata": {},
     "output_type": "execute_result"
    }
   ],
   "source": [
    "str(a)"
   ]
  },
  {
   "cell_type": "code",
   "execution_count": null,
   "id": "032ee123",
   "metadata": {},
   "outputs": [],
   "source": [
    "10. Why does this expression cause an error? How can you fix it?\n",
    "'I have eaten'+ 99 + 'burritos'"
   ]
  },
  {
   "cell_type": "code",
   "execution_count": null,
   "id": "2624dafb",
   "metadata": {},
   "outputs": [],
   "source": [
    "#given expression can not be concatenated because all of three ,two is string datatype and 99 is an integer.string and integer\n",
    "can not be concatenated.to concatenate all must be a same datatype.so.convert 99(int) to string and then we can fix this error."
   ]
  },
  {
   "cell_type": "code",
   "execution_count": 44,
   "id": "274b37ee",
   "metadata": {},
   "outputs": [
    {
     "data": {
      "text/plain": [
       "'i have eaten 99 burritos'"
      ]
     },
     "execution_count": 44,
     "metadata": {},
     "output_type": "execute_result"
    }
   ],
   "source": [
    "'i have eaten ' +'99'+ ' burritos'"
   ]
  }
 ],
 "metadata": {
  "kernelspec": {
   "display_name": "Python 3 (ipykernel)",
   "language": "python",
   "name": "python3"
  },
  "language_info": {
   "codemirror_mode": {
    "name": "ipython",
    "version": 3
   },
   "file_extension": ".py",
   "mimetype": "text/x-python",
   "name": "python",
   "nbconvert_exporter": "python",
   "pygments_lexer": "ipython3",
   "version": "3.9.7"
  }
 },
 "nbformat": 4,
 "nbformat_minor": 5
}
